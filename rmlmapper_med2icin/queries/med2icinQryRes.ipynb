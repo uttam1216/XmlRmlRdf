{
 "cells": [
  {
   "cell_type": "code",
   "execution_count": 14,
   "metadata": {},
   "outputs": [],
   "source": [
    "import pandas as pd\n",
    "qry_res_df = pd.read_csv('med_qry_res.csv')"
   ]
  },
  {
   "cell_type": "code",
   "execution_count": 15,
   "metadata": {},
   "outputs": [
    {
     "data": {
      "text/html": [
       "<div>\n",
       "<style scoped>\n",
       "    .dataframe tbody tr th:only-of-type {\n",
       "        vertical-align: middle;\n",
       "    }\n",
       "\n",
       "    .dataframe tbody tr th {\n",
       "        vertical-align: top;\n",
       "    }\n",
       "\n",
       "    .dataframe thead th {\n",
       "        text-align: right;\n",
       "    }\n",
       "</style>\n",
       "<table border=\"1\" class=\"dataframe\">\n",
       "  <thead>\n",
       "    <tr style=\"text-align: right;\">\n",
       "      <th></th>\n",
       "      <th>Patient</th>\n",
       "      <th>Patienten_Geschlecht</th>\n",
       "      <th>fname</th>\n",
       "      <th>lname</th>\n",
       "      <th>Krakenno</th>\n",
       "      <th>dob</th>\n",
       "      <th>patAddress</th>\n",
       "      <th>strasse</th>\n",
       "      <th>Patienten_Ort</th>\n",
       "      <th>Patienten_PLZ</th>\n",
       "      <th>...</th>\n",
       "      <th>DiagnoseMMHormonrezeptorStatus_Oestrogen</th>\n",
       "      <th>DiagnoseMMHormonrezeptorStatus_Progesteron</th>\n",
       "      <th>DiagnoseMMHer2neuStatus</th>\n",
       "      <th>DiagnoseMMPraeopDrahtmarkierung</th>\n",
       "      <th>MengeOPOP_Datum</th>\n",
       "      <th>MengeOPOP_Intention</th>\n",
       "      <th>MengeOPOP_OPS_Version</th>\n",
       "      <th>Tumorkonferenz_Datum</th>\n",
       "      <th>Tumorkonferenz_Typ</th>\n",
       "      <th>Anmerkung</th>\n",
       "    </tr>\n",
       "  </thead>\n",
       "  <tbody>\n",
       "    <tr>\n",
       "      <th>0</th>\n",
       "      <td>https://fraunhofer.de/med2icin/ADT-GEKID/resou...</td>\n",
       "      <td>W</td>\n",
       "      <td>Neele</td>\n",
       "      <td>Franke</td>\n",
       "      <td>101575519</td>\n",
       "      <td>15.10.1950</td>\n",
       "      <td>https://fraunhofer.de/med2icin/ADT-GEKID/resou...</td>\n",
       "      <td>Fabriciusstr</td>\n",
       "      <td>Hannover</td>\n",
       "      <td>30175</td>\n",
       "      <td>...</td>\n",
       "      <td>P</td>\n",
       "      <td>P</td>\n",
       "      <td>N</td>\n",
       "      <td>M</td>\n",
       "      <td>NaN</td>\n",
       "      <td>NaN</td>\n",
       "      <td>NaN</td>\n",
       "      <td>NaN</td>\n",
       "      <td>NaN</td>\n",
       "      <td>NaN</td>\n",
       "    </tr>\n",
       "    <tr>\n",
       "      <th>1</th>\n",
       "      <td>https://fraunhofer.de/med2icin/ADT-GEKID/resou...</td>\n",
       "      <td>W</td>\n",
       "      <td>Neele</td>\n",
       "      <td>Franke</td>\n",
       "      <td>101575519</td>\n",
       "      <td>15.10.1950</td>\n",
       "      <td>https://fraunhofer.de/med2icin/ADT-GEKID/resou...</td>\n",
       "      <td>Fabriciusstr</td>\n",
       "      <td>Hannover</td>\n",
       "      <td>30175</td>\n",
       "      <td>...</td>\n",
       "      <td>P</td>\n",
       "      <td>P</td>\n",
       "      <td>N</td>\n",
       "      <td>M</td>\n",
       "      <td>12.02.2017</td>\n",
       "      <td>K</td>\n",
       "      <td>2017.0</td>\n",
       "      <td>NaN</td>\n",
       "      <td>NaN</td>\n",
       "      <td>NaN</td>\n",
       "    </tr>\n",
       "  </tbody>\n",
       "</table>\n",
       "<p>2 rows × 69 columns</p>\n",
       "</div>"
      ],
      "text/plain": [
       "                                             Patient Patienten_Geschlecht  \\\n",
       "0  https://fraunhofer.de/med2icin/ADT-GEKID/resou...                    W   \n",
       "1  https://fraunhofer.de/med2icin/ADT-GEKID/resou...                    W   \n",
       "\n",
       "   fname   lname   Krakenno         dob  \\\n",
       "0  Neele  Franke  101575519  15.10.1950   \n",
       "1  Neele  Franke  101575519  15.10.1950   \n",
       "\n",
       "                                          patAddress       strasse  \\\n",
       "0  https://fraunhofer.de/med2icin/ADT-GEKID/resou...  Fabriciusstr   \n",
       "1  https://fraunhofer.de/med2icin/ADT-GEKID/resou...  Fabriciusstr   \n",
       "\n",
       "  Patienten_Ort  Patienten_PLZ  ... DiagnoseMMHormonrezeptorStatus_Oestrogen  \\\n",
       "0      Hannover          30175  ...                                        P   \n",
       "1      Hannover          30175  ...                                        P   \n",
       "\n",
       "  DiagnoseMMHormonrezeptorStatus_Progesteron DiagnoseMMHer2neuStatus  \\\n",
       "0                                          P                       N   \n",
       "1                                          P                       N   \n",
       "\n",
       "  DiagnoseMMPraeopDrahtmarkierung MengeOPOP_Datum MengeOPOP_Intention  \\\n",
       "0                               M             NaN                 NaN   \n",
       "1                               M      12.02.2017                   K   \n",
       "\n",
       "  MengeOPOP_OPS_Version Tumorkonferenz_Datum Tumorkonferenz_Typ Anmerkung  \n",
       "0                   NaN                  NaN                NaN       NaN  \n",
       "1                2017.0                  NaN                NaN       NaN  \n",
       "\n",
       "[2 rows x 69 columns]"
      ]
     },
     "execution_count": 15,
     "metadata": {},
     "output_type": "execute_result"
    }
   ],
   "source": [
    "qry_res_df.head(2)"
   ]
  },
  {
   "cell_type": "code",
   "execution_count": 16,
   "metadata": {},
   "outputs": [],
   "source": [
    "lst_cols = list(qry_res_df.columns)"
   ]
  },
  {
   "cell_type": "code",
   "execution_count": 17,
   "metadata": {},
   "outputs": [],
   "source": [
    "#qry_res_df.groupby(lst_cols, as_index=False).count()"
   ]
  },
  {
   "cell_type": "code",
   "execution_count": 18,
   "metadata": {},
   "outputs": [
    {
     "name": "stdout",
     "output_type": "stream",
     "text": [
      "(337, 69)\n"
     ]
    }
   ],
   "source": [
    "print(qry_res_df.shape)\n",
    "qry_res_df = qry_res_df.drop_duplicates()"
   ]
  },
  {
   "cell_type": "code",
   "execution_count": 19,
   "metadata": {},
   "outputs": [
    {
     "data": {
      "text/plain": [
       "(337, 69)"
      ]
     },
     "execution_count": 19,
     "metadata": {},
     "output_type": "execute_result"
    }
   ],
   "source": [
    "qry_res_df.shape"
   ]
  },
  {
   "cell_type": "code",
   "execution_count": 21,
   "metadata": {},
   "outputs": [
    {
     "name": "stderr",
     "output_type": "stream",
     "text": [
      "/home/ukumar/anaconda3/lib/python3.7/site-packages/IPython/core/interactiveshell.py:3063: DtypeWarning: Columns (10,19,20,21,22,24,25,26,27,63,64,66,67,68) have mixed types.Specify dtype option on import or set low_memory=False.\n",
      "  interactivity=interactivity, compiler=compiler, result=result)\n"
     ]
    },
    {
     "data": {
      "text/plain": [
       "503212"
      ]
     },
     "execution_count": 21,
     "metadata": {},
     "output_type": "execute_result"
    }
   ],
   "source": [
    "comb_qry_res_df = pd.read_csv('combined_qry_res.csv')\n",
    "len(comb_qry_res_df)"
   ]
  },
  {
   "cell_type": "code",
   "execution_count": 22,
   "metadata": {},
   "outputs": [],
   "source": [
    "new_qry_res_df = pd.read_csv('new_qry_res.csv')"
   ]
  },
  {
   "cell_type": "code",
   "execution_count": 23,
   "metadata": {},
   "outputs": [
    {
     "name": "stdout",
     "output_type": "stream",
     "text": [
      "(384, 69)\n"
     ]
    },
    {
     "data": {
      "text/plain": [
       "(384, 69)"
      ]
     },
     "execution_count": 23,
     "metadata": {},
     "output_type": "execute_result"
    }
   ],
   "source": [
    "print(new_qry_res_df.shape)\n",
    "new_qry_res_df = new_qry_res_df.drop_duplicates()\n",
    "new_qry_res_df.shape"
   ]
  },
  {
   "cell_type": "code",
   "execution_count": null,
   "metadata": {},
   "outputs": [],
   "source": []
  }
 ],
 "metadata": {
  "kernelspec": {
   "display_name": "Python 3",
   "language": "python",
   "name": "python3"
  },
  "language_info": {
   "codemirror_mode": {
    "name": "ipython",
    "version": 3
   },
   "file_extension": ".py",
   "mimetype": "text/x-python",
   "name": "python",
   "nbconvert_exporter": "python",
   "pygments_lexer": "ipython3",
   "version": "3.7.6"
  }
 },
 "nbformat": 4,
 "nbformat_minor": 4
}
