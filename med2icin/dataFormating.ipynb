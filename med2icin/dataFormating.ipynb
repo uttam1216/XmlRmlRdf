{
 "cells": [
  {
   "cell_type": "code",
   "execution_count": 1,
   "metadata": {},
   "outputs": [],
   "source": [
    "import re"
   ]
  },
  {
   "cell_type": "code",
   "execution_count": 10,
   "metadata": {},
   "outputs": [],
   "source": [
    "inp_file_name = 'patient_11'\n",
    "out_file_name = inp_file_name + '_out'\n",
    "out_file_path = out_file_name + '.ttl'\n",
    "final_out_path = out_file_name + '_final.ttl'"
   ]
  },
  {
   "cell_type": "code",
   "execution_count": 3,
   "metadata": {},
   "outputs": [],
   "source": [
    "with open(out_file_path) as f:\n",
    "    lines = f.readlines()"
   ]
  },
  {
   "cell_type": "code",
   "execution_count": 4,
   "metadata": {},
   "outputs": [],
   "source": [
    "lines_lst = lines"
   ]
  },
  {
   "cell_type": "code",
   "execution_count": 5,
   "metadata": {},
   "outputs": [],
   "source": [
    "pat_id = 0\n",
    "mel_id = 0\n",
    "addr_plz = 0"
   ]
  },
  {
   "cell_type": "code",
   "execution_count": 6,
   "metadata": {},
   "outputs": [
    {
     "name": "stdout",
     "output_type": "stream",
     "text": [
      "10791.0\n",
      "PAT_11\n",
      "12568\n"
     ]
    }
   ],
   "source": [
    "for tpl in lines_lst:\n",
    "    if tpl.count('+') == 2:\n",
    "       pat_id = tpl.split('+')[1]\n",
    "    if tpl.count('*') == 2:\n",
    "       mel_id = tpl.split('*')[1]\n",
    "    if tpl.count('!') == 2:\n",
    "       addr_plz = tpl.split('!')[1]\n",
    "print(pat_id)\n",
    "print(mel_id)\n",
    "print(addr_plz)"
   ]
  },
  {
   "cell_type": "code",
   "execution_count": 7,
   "metadata": {},
   "outputs": [],
   "source": [
    "PAT_ADDR_ID = pat_id + '/1'\n",
    "PAT_MELDUNGID = mel_id\n",
    "PAT_MELDUNG_ID = mel_id + '/1'\n",
    "rep_pat_id = '+'+pat_id+'+'\n",
    "rep_mel_id = '*'+mel_id+'*'\n",
    "rep_addr_plz = '!'+addr_plz+'!'"
   ]
  },
  {
   "cell_type": "code",
   "execution_count": 8,
   "metadata": {},
   "outputs": [],
   "source": [
    "new_ttl_list = []\n",
    "for tpl in lines_lst:\n",
    "    if rep_pat_id in tpl:\n",
    "       tpl = tpl.replace(rep_pat_id,pat_id)\n",
    "    if rep_mel_id in tpl:\n",
    "       tpl = tpl.replace(rep_mel_id,mel_id)\n",
    "    if rep_addr_plz in tpl:\n",
    "       tpl = tpl.replace(rep_addr_plz,PAT_ADDR_ID)\n",
    "    if 'PAT_ADDR_ID' in tpl:\n",
    "       tpl = tpl.replace('PAT_ADDR_ID',PAT_ADDR_ID)\n",
    "    if 'PAT_MELDUNGID' in tpl:\n",
    "       tpl = tpl.replace('PAT_MELDUNGID',PAT_MELDUNGID)\n",
    "    if 'PAT_MELDUNG_ID' in tpl:\n",
    "       tpl = tpl.replace('PAT_MELDUNG_ID',PAT_MELDUNG_ID)\n",
    "    new_ttl_list.append(tpl)"
   ]
  },
  {
   "cell_type": "code",
   "execution_count": 9,
   "metadata": {},
   "outputs": [
    {
     "data": {
      "text/plain": [
       "['<https://fraunhofer.de/med2icin/ADT-GEKID/resources/Patient/10791.0> <http://www.w3.org/1999/02/22-rdf-syntax-ns#type> <http://iais.fraunhofer.de/vocabs/med2icin/ADT-GEKID/Patient> .\\n',\n",
       " '<https://fraunhofer.de/med2icin/ADT-GEKID/resources/Patient/10791.0> <http://iais.fraunhofer.de/vocabs/med2icin/ADT-GEKID/KrankenkassenNr> \"108035612\" .\\n',\n",
       " '<https://fraunhofer.de/med2icin/ADT-GEKID/resources/Patient/10791.0> <http://iais.fraunhofer.de/vocabs/med2icin/ADT-GEKID/Patienten_Nachname> \"Gude\" .\\n',\n",
       " '<https://fraunhofer.de/med2icin/ADT-GEKID/resources/Patient/10791.0> <http://iais.fraunhofer.de/vocabs/med2icin/ADT-GEKID/Patienten_Vornamen> \"Vesna\" .\\n',\n",
       " '<https://fraunhofer.de/med2icin/ADT-GEKID/resources/Patient/10791.0> <http://iais.fraunhofer.de/vocabs/med2icin/ADT-GEKID/Patienten_Geburtsdatum> \"24.03.1969\" .\\n',\n",
       " '<https://fraunhofer.de/med2icin/ADT-GEKID/resources/Patient/10791.0> <http://iais.fraunhofer.de/vocabs/med2icin/ADT-GEKID/Patienten_Geschlecht> \"W\" .\\n',\n",
       " '<https://fraunhofer.de/med2icin/ADT-GEKID/resources/Patient/10791.0> <http://iais.fraunhofer.de/vocabs/med2icin/ADT-GEKID/hasPatientAddress> <https://fraunhofer.de/med2icin/ADT-GEKID/resources/PatientenAdresse/10791.0/1> .\\n',\n",
       " '\\n',\n",
       " '\\n',\n",
       " '<https://fraunhofer.de/med2icin/ADT-GEKID/resources/PatientenAdresse/Patient/10791.0/1> <http://iais.fraunhofer.de/vocabs/med2icin/ADT-GEKID/Patienten_Strasse> \"Hertrampfweg\" .\\n',\n",
       " '<https://fraunhofer.de/med2icin/ADT-GEKID/resources/PatientenAdresse/Patient/10791.0/1> <http://iais.fraunhofer.de/vocabs/med2icin/ADT-GEKID/Patienten_Hausnummer> \"19\" .\\n',\n",
       " '<https://fraunhofer.de/med2icin/ADT-GEKID/resources/PatientenAdresse/Patient/10791.0/1> <http://iais.fraunhofer.de/vocabs/med2icin/ADT-GEKID/Patienten_PLZ> \"12568\" .\\n',\n",
       " '<https://fraunhofer.de/med2icin/ADT-GEKID/resources/PatientenAdresse/Patient/10791.0/1> <http://iais.fraunhofer.de/vocabs/med2icin/ADT-GEKID/Patienten_Ort> \"Senftenberg\" .\\n',\n",
       " '<https://fraunhofer.de/med2icin/ADT-GEKID/resources/PatientenAdresse/Patient/10791.0/1> <http://www.w3.org/1999/02/22-rdf-syntax-ns#type> <http://iais.fraunhofer.de/vocabs/med2icin/ADT-GEKID/PatientenAdresse> .\\n',\n",
       " '<https://fraunhofer.de/med2icin/ADT-GEKID/resources/PatientenAdresse/Patient/10791.0/1> <http://www.w3.org/1999/02/22-rdf-syntax-ns#type> <http://www.w3.org/2002/07/owl#NamedIndividual> .\\n',\n",
       " '\\n',\n",
       " '\\n',\n",
       " '\\n',\n",
       " '<http://iais.fraunhofer.de/vocabs/med2icin/ADT-GEKID/MedicalVisit/10791.0> <http://iais.fraunhofer.de/vocabs/med2icin/ADT-GEKID/hasMeldung> <http://iais.fraunhofer.de/vocabs/med2icin/ADT-GEKID/MedicalVisit/PAT_11> .\\n',\n",
       " '<http://iais.fraunhofer.de/vocabs/med2icin/ADT-GEKID/MedicalVisit/10791.0> <http://www.w3.org/1999/02/22-rdf-syntax-ns#type> <http://iais.fraunhofer.de/vocabs/med2icin/ADT-GEKID/MedicalVisit> .\\n',\n",
       " '<http://iais.fraunhofer.de/vocabs/med2icin/ADT-GEKID/MedicalVisit/10791.0> <http://www.w3.org/1999/02/22-rdf-syntax-ns#type> <http://www.w3.org/2002/07/owl#NamedIndividual> .\\n',\n",
       " '\\n',\n",
       " '\\n',\n",
       " '<http://iais.fraunhofer.de/vocabs/med2icin/ADT-GEKID/Meldung/PAT_11> <http://iais.fraunhofer.de/vocabs/med2icin/ADT-GEKID/Meldeanlass> \"statusmeldung\" .\\n',\n",
       " '<http://iais.fraunhofer.de/vocabs/med2icin/ADT-GEKID/Meldung/PAT_11> <http://iais.fraunhofer.de/vocabs/med2icin/ADT-GEKID/Meldebegruendung> \"V\" .\\n',\n",
       " '<http://iais.fraunhofer.de/vocabs/med2icin/ADT-GEKID/Meldung/PAT_11> <http://iais.fraunhofer.de/vocabs/med2icin/ADT-GEKID/Meldedatum> \"14.10.2020\" .\\n',\n",
       " '<http://iais.fraunhofer.de/vocabs/med2icin/ADT-GEKID/Meldung/PAT_11> <http://www.w3.org/1999/02/22-rdf-syntax-ns#type> <http://iais.fraunhofer.de/vocabs/med2icin/ADT-GEKID/Meldung> .\\n',\n",
       " '<http://iais.fraunhofer.de/vocabs/med2icin/ADT-GEKID/Meldung/PAT_11> <http://www.w3.org/1999/02/22-rdf-syntax-ns#type> <http://www.w3.org/2002/07/owl#NamedIndividual> .\\n',\n",
       " '<http://iais.fraunhofer.de/vocabs/med2icin/ADT-GEKID/Meldung/PAT_11> <http://iais.fraunhofer.de/vocabs/med2icin/ADT-GEKID/hasTumorzuordnung> <http://iais.fraunhofer.de/vocabs/med2icin/ADT-GEKID/Tumorzuordnung/PAT_11/1> .\\n',\n",
       " '\\n',\n",
       " '\\n',\n",
       " '<http://iais.fraunhofer.de/vocabs/med2icin/ADT-GEKID/Tumorzuordnung/PAT_11/1> <http://www.w3.org/1999/02/22-rdf-syntax-ns#type> <http://www.w3.org/2002/07/owl#NamedIndividual> .\\n',\n",
       " '<http://iais.fraunhofer.de/vocabs/med2icin/ADT-GEKID/Tumorzuordnung/PAT_11/1> <http://www.w3.org/1999/02/22-rdf-syntax-ns#type> <http://iais.fraunhofer.de/vocabs/med2icin/ADT-GEKID/Tumorzuordnung> .\\n',\n",
       " '<http://iais.fraunhofer.de/vocabs/med2icin/ADT-GEKID/Tumorzuordnung/PAT_11/1> <http://iais.fraunhofer.de/vocabs/med2icin/ADT-GEKID/Seitenlokalisation> \"T\" .\\n',\n",
       " '<http://iais.fraunhofer.de/vocabs/med2icin/ADT-GEKID/Tumorzuordnung/PAT_11/1> <http://iais.fraunhofer.de/vocabs/med2icin/ADT-GEKID/Diagnosedatum> \"15.01.2009\" .\\n',\n",
       " '<http://iais.fraunhofer.de/vocabs/med2icin/ADT-GEKID/Tumorzuordnung/PAT_11/1> <http://iais.fraunhofer.de/vocabs/med2icin/ADT-GEKID/Primaertumor_ICD_Code> \"C20\" .\\n',\n",
       " '\\n',\n",
       " '\\n',\n",
       " '\\n',\n",
       " '\\n',\n",
       " '\\n',\n",
       " '\\n']"
      ]
     },
     "execution_count": 9,
     "metadata": {},
     "output_type": "execute_result"
    }
   ],
   "source": [
    "new_ttl_list"
   ]
  },
  {
   "cell_type": "code",
   "execution_count": 11,
   "metadata": {},
   "outputs": [],
   "source": [
    "f=open(final_out_path,'w')\n",
    "#l1=map(lambda x:x, new_ttl_list)\n",
    "f.writelines(new_ttl_list)\n",
    "f.close()"
   ]
  },
  {
   "cell_type": "code",
   "execution_count": null,
   "metadata": {},
   "outputs": [],
   "source": []
  }
 ],
 "metadata": {
  "kernelspec": {
   "display_name": "Python 3",
   "language": "python",
   "name": "python3"
  },
  "language_info": {
   "codemirror_mode": {
    "name": "ipython",
    "version": 3
   },
   "file_extension": ".py",
   "mimetype": "text/x-python",
   "name": "python",
   "nbconvert_exporter": "python",
   "pygments_lexer": "ipython3",
   "version": "3.7.6"
  }
 },
 "nbformat": 4,
 "nbformat_minor": 4
}
